{
  "nbformat": 4,
  "nbformat_minor": 0,
  "metadata": {
    "colab": {
      "provenance": [],
      "authorship_tag": "ABX9TyMaGTsXE67fA8m+r3bv1NNL",
      "include_colab_link": true
    },
    "kernelspec": {
      "name": "python3",
      "display_name": "Python 3"
    },
    "language_info": {
      "name": "python"
    }
  },
  "cells": [
    {
      "cell_type": "markdown",
      "metadata": {
        "id": "view-in-github",
        "colab_type": "text"
      },
      "source": [
        "<a href=\"https://colab.research.google.com/github/Kashishsingla111/Samplingsubassignk/blob/main/Samplingassignk50.ipynb\" target=\"_parent\"><img src=\"https://colab.research.google.com/assets/colab-badge.svg\" alt=\"Open In Colab\"/></a>"
      ]
    },
    {
      "cell_type": "code",
      "source": [
        "import pandas as pd\n",
        "from sklearn.model_selection import StratifiedShuffleSplit, train_test_split, StratifiedKFold\n",
        "from sklearn.cluster import KMeans\n",
        "from sklearn.ensemble import RandomForestClassifier, GradientBoostingClassifier\n",
        "from sklearn.linear_model import LogisticRegression\n",
        "from sklearn.svm import SVC\n",
        "from sklearn.neighbors import KNeighborsClassifier\n",
        "from sklearn.metrics import accuracy_score\n",
        "from imblearn.over_sampling import RandomOverSampler\n",
        "import numpy as np"
      ],
      "metadata": {
        "id": "APTBnTfsd766"
      },
      "execution_count": 1,
      "outputs": []
    },
    {
      "cell_type": "code",
      "source": [
        "data = pd.read_csv(\"/content/Creditcard_data.csv\")"
      ],
      "metadata": {
        "id": "1JeX9eFjd79b"
      },
      "execution_count": 2,
      "outputs": []
    },
    {
      "cell_type": "code",
      "source": [
        "X = data.drop('Class', axis=1)\n",
        "y = data['Class']"
      ],
      "metadata": {
        "id": "3NqpduA0d7_x"
      },
      "execution_count": 3,
      "outputs": []
    },
    {
      "cell_type": "code",
      "source": [
        "print(\"Number of instances before balancing:\")\n",
        "print(y.value_counts())"
      ],
      "metadata": {
        "colab": {
          "base_uri": "https://localhost:8080/"
        },
        "id": "Yi6r9f1bd8B_",
        "outputId": "d04e8873-bc91-4543-b0d0-afc144905160"
      },
      "execution_count": 4,
      "outputs": [
        {
          "output_type": "stream",
          "name": "stdout",
          "text": [
            "Number of instances before balancing:\n",
            "0    763\n",
            "1      9\n",
            "Name: Class, dtype: int64\n"
          ]
        }
      ]
    },
    {
      "cell_type": "code",
      "source": [
        "oversampler = RandomOverSampler(random_state=42)\n",
        "X_balanced, y_balanced = oversampler.fit_resample(X, y)\n",
        "\n",
        "print(\"\\nNumber of instances after balancing:\")\n",
        "print(y_balanced.value_counts())"
      ],
      "metadata": {
        "colab": {
          "base_uri": "https://localhost:8080/"
        },
        "id": "zQ19cwNFd8Ea",
        "outputId": "a3d939e8-fe8d-4119-ff6e-3f0263aee7d4"
      },
      "execution_count": 5,
      "outputs": [
        {
          "output_type": "stream",
          "name": "stdout",
          "text": [
            "\n",
            "Number of instances after balancing:\n",
            "0    763\n",
            "1    763\n",
            "Name: Class, dtype: int64\n"
          ]
        }
      ]
    },
    {
      "cell_type": "code",
      "source": [
        "num_samples = 5"
      ],
      "metadata": {
        "id": "H3P4celGemYg"
      },
      "execution_count": 6,
      "outputs": []
    },
    {
      "cell_type": "code",
      "source": [
        "models = {\n",
        "    'Logistic Regression': LogisticRegression(random_state=42),\n",
        "    'Random Forest': RandomForestClassifier(random_state=42),\n",
        "    'SVM': SVC(random_state=42),\n",
        "    'k-NN': KNeighborsClassifier(),\n",
        "    'Gradient Boosting': GradientBoostingClassifier(random_state=42)\n",
        "}"
      ],
      "metadata": {
        "id": "6IYuXnY2emb7"
      },
      "execution_count": 7,
      "outputs": []
    },
    {
      "cell_type": "code",
      "source": [
        "sampling_techniques = {\n",
        "    'Stratified Sampling': StratifiedShuffleSplit(n_splits=num_samples, test_size=0.2, random_state=42),\n",
        "    'Simple Sampling': None,  # Will be handled separately\n",
        "    'Cluster Sampling': KMeans(n_clusters=num_samples, random_state=42).fit(X_balanced),\n",
        "    'Systematic Sampling': None,  # Will be handled separately\n",
        "    'Cross-Validation Sampling': StratifiedKFold(n_splits=num_samples, shuffle=True, random_state=42)\n",
        "}"
      ],
      "metadata": {
        "colab": {
          "base_uri": "https://localhost:8080/"
        },
        "id": "naH5e3T9eufv",
        "outputId": "5f386648-4942-4560-e7cf-25b592185627"
      },
      "execution_count": 8,
      "outputs": [
        {
          "output_type": "stream",
          "name": "stderr",
          "text": [
            "/usr/local/lib/python3.10/dist-packages/sklearn/cluster/_kmeans.py:870: FutureWarning: The default value of `n_init` will change from 10 to 'auto' in 1.4. Set the value of `n_init` explicitly to suppress the warning\n",
            "  warnings.warn(\n"
          ]
        }
      ]
    },
    {
      "cell_type": "code",
      "source": [
        "results = pd.DataFrame(index=models.keys(), columns=sampling_techniques.keys())\n",
        "for model_name, model in models.items():\n",
        "    for sampling_name, sampling in sampling_techniques.items():\n",
        "        accuracies = []\n",
        "        if 'Stratified' in sampling_name or 'Cross-Validation' in sampling_name:\n",
        "            # Use StratifiedShuffleSplit or StratifiedKFold\n",
        "            for train_index, test_index in sampling.split(X_balanced, y_balanced):\n",
        "                X_train, X_test = X_balanced.iloc[train_index], X_balanced.iloc[test_index]\n",
        "                y_train, y_test = y_balanced.iloc[train_index], y_balanced.iloc[test_index]\n",
        "\n",
        "                model.fit(X_train, y_train)\n",
        "\n",
        "                y_pred = model.predict(X_test)\n",
        "\n",
        "                accuracy = accuracy_score(y_test, y_pred)\n",
        "                accuracies.append(accuracy)\n",
        "        elif 'Simple' in sampling_name:\n",
        "            # Use Simple Sampling (train_test_split)\n",
        "            for _ in range(num_samples):\n",
        "                X_train, X_test, y_train, y_test = train_test_split(X_balanced, y_balanced, test_size=0.2, random_state=42)\n",
        "\n",
        "                model.fit(X_train, y_train)\n",
        "\n",
        "                y_pred = model.predict(X_test)\n",
        "\n",
        "                accuracy = accuracy_score(y_test, y_pred)\n",
        "                accuracies.append(accuracy)\n",
        "        elif 'Systematic' in sampling_name:\n",
        "            # Use Systematic Sampling (implement systematic_sampling function)\n",
        "            for _ in range(num_samples):\n",
        "                systematic_indices = np.arange(0, len(X_balanced), num_samples)\n",
        "                X_train, y_train = X_balanced.iloc[systematic_indices], y_balanced.iloc[systematic_indices]\n",
        "\n",
        "                model.fit(X_train, y_train)\n",
        "\n",
        "                y_pred = model.predict(X_test)\n",
        "\n",
        "                accuracy = accuracy_score(y_test, y_pred)\n",
        "                accuracies.append(accuracy)\n",
        "        else:\n",
        "            # Use Cluster Sampling\n",
        "            labels = sampling.labels_\n",
        "            for label in np.unique(labels):\n",
        "                cluster_indices = np.where(labels == label)[0]\n",
        "\n",
        "                # Check if the cluster size is sufficient for splitting\n",
        "                if len(cluster_indices) >= 2:\n",
        "                    X_train, X_test, y_train, y_test = train_test_split(X_balanced.iloc[cluster_indices], y_balanced.iloc[cluster_indices], test_size=0.2, random_state=42)\n",
        "\n",
        "                    model.fit(X_train, y_train)\n",
        "\n",
        "                    y_pred = model.predict(X_test)\n",
        "\n",
        "                    accuracy = accuracy_score(y_test, y_pred)\n",
        "                    accuracies.append(accuracy)\n",
        "\n",
        "        avg_accuracy = np.mean(accuracies)\n",
        "        results.at[model_name, sampling_name] = avg_accuracy"
      ],
      "metadata": {
        "id": "JDrHlL68eujC"
      },
      "execution_count": null,
      "outputs": []
    },
    {
      "cell_type": "code",
      "source": [
        "for (model_name, sampling_name), accuracy in results.items():\n",
        "    print(f'{model_name} with {sampling_name}: {accuracy:.4f}')"
      ],
      "metadata": {
        "colab": {
          "base_uri": "https://localhost:8080/"
        },
        "id": "xO6DZnMffAyH",
        "outputId": "772982c5-4048-4786-b68d-cbe531f73514"
      },
      "execution_count": 10,
      "outputs": [
        {
          "output_type": "stream",
          "name": "stdout",
          "text": [
            "Logistic Regression with Stratified Sampling: 0.9248\n",
            "Logistic Regression with Simple Sampling: 0.9183\n",
            "Logistic Regression with Cluster Sampling: 0.9812\n",
            "Logistic Regression with Systematic Sampling: 0.9307\n",
            "Logistic Regression with Cross-Validation Sampling: 0.9207\n",
            "Random Forest with Stratified Sampling: 1.0000\n",
            "Random Forest with Simple Sampling: 1.0000\n",
            "Random Forest with Cluster Sampling: 1.0000\n",
            "Random Forest with Systematic Sampling: 1.0000\n",
            "Random Forest with Cross-Validation Sampling: 1.0000\n",
            "SVM with Stratified Sampling: 0.7098\n",
            "SVM with Simple Sampling: 0.6699\n",
            "SVM with Cluster Sampling: 0.8173\n",
            "SVM with Systematic Sampling: 0.8020\n",
            "SVM with Cross-Validation Sampling: 0.7169\n",
            "k-NN with Stratified Sampling: 0.9843\n",
            "k-NN with Simple Sampling: 0.9869\n",
            "k-NN with Cluster Sampling: 0.9686\n",
            "k-NN with Systematic Sampling: 0.9703\n",
            "k-NN with Cross-Validation Sampling: 0.9810\n",
            "Gradient Boosting with Stratified Sampling: 0.9980\n",
            "Gradient Boosting with Simple Sampling: 1.0000\n",
            "Gradient Boosting with Cluster Sampling: 0.9978\n",
            "Gradient Boosting with Systematic Sampling: 1.0000\n",
            "Gradient Boosting with Cross-Validation Sampling: 0.9980\n"
          ]
        }
      ]
    },
    {
      "cell_type": "code",
      "source": [
        "from tabulate import tabulate"
      ],
      "metadata": {
        "id": "JkexUrqBgc8m"
      },
      "execution_count": 16,
      "outputs": []
    },
    {
      "cell_type": "code",
      "source": [
        "print(\"\\nResults (Average Accuracy):\")\n",
        "print(tabulate(results, headers='keys', tablefmt='pretty'))"
      ],
      "metadata": {
        "colab": {
          "base_uri": "https://localhost:8080/"
        },
        "id": "OLenRnqMgZl1",
        "outputId": "08172ee9-b88d-41d4-8b89-008f4f21f7eb"
      },
      "execution_count": 14,
      "outputs": [
        {
          "output_type": "stream",
          "name": "stdout",
          "text": [
            "\n",
            "Results (Average Accuracy):\n",
            "+---------------------+---------------------+--------------------+--------------------+---------------------+---------------------------+\n",
            "|                     | Stratified Sampling |  Simple Sampling   |  Cluster Sampling  | Systematic Sampling | Cross-Validation Sampling |\n",
            "+---------------------+---------------------+--------------------+--------------------+---------------------+---------------------------+\n",
            "| Logistic Regression | 0.9248366013071895  | 0.9183006535947712 | 0.9811704384724187 | 0.9306930693069309  |    0.9206835958427086     |\n",
            "|    Random Forest    |         1.0         |        1.0         |        1.0         |         1.0         |            1.0            |\n",
            "|         SVM         | 0.7098039215686275  | 0.6699346405228758 | 0.8172921150810732 |  0.801980198019802  |    0.7169013179042109     |\n",
            "|        k-NN         | 0.9843137254901961  | 0.9869281045751634 | 0.9685961810466761 | 0.9702970297029703  |    0.9809964641594343     |\n",
            "|  Gradient Boosting  | 0.9980392156862745  |        1.0         | 0.9977678571428572 |         1.0         |    0.9980349298189222     |\n",
            "+---------------------+---------------------+--------------------+--------------------+---------------------+---------------------------+\n"
          ]
        }
      ]
    },
    {
      "cell_type": "code",
      "source": [
        "results.to_csv('sampling_results.csv', index=True)"
      ],
      "metadata": {
        "id": "FVyipen_j35y"
      },
      "execution_count": 19,
      "outputs": []
    }
  ]
}